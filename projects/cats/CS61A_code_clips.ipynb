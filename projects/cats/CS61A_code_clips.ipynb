{
 "cells": [
  {
   "cell_type": "markdown",
   "metadata": {},
   "source": [
    "# CS61A code clips"
   ]
  },
  {
   "cell_type": "code",
   "execution_count": 2,
   "metadata": {},
   "outputs": [
    {
     "name": "stdout",
     "output_type": "stream",
     "text": [
      "[3, 5, 7, 9]\n"
     ]
    }
   ],
   "source": [
    "# trick to create a new list\n",
    "# inline if\n",
    "digital=[1,2,3,4,5,6,7,8,9]\n",
    "newdigital=[d+1 for d in digital if d % 2 ==0]\n",
    "print(newdigital)"
   ]
  },
  {
   "cell_type": "code",
   "execution_count": 4,
   "metadata": {},
   "outputs": [
    {
     "data": {
      "text/plain": [
       "<function __main__.<lambda>(f)>"
      ]
     },
     "execution_count": 4,
     "metadata": {},
     "output_type": "execute_result"
    }
   ],
   "source": [
    "# nest x and y\n",
    "lambda f:lambda x:lambda y: f(x,y)"
   ]
  },
  {
   "cell_type": "code",
   "execution_count": 6,
   "metadata": {},
   "outputs": [
    {
     "name": "stdout",
     "output_type": "stream",
     "text": [
      "[9, 8, 7, 6, 5, 4, 3, 2, 1, 0]\n"
     ]
    }
   ],
   "source": [
    "# a trick to inverse string\n",
    "digital=list(range(10))\n",
    "print(digital[::-1])"
   ]
  },
  {
   "cell_type": "code",
   "execution_count": 7,
   "metadata": {},
   "outputs": [
    {
     "name": "stdout",
     "output_type": "stream",
     "text": [
      "one time\n",
      "one time\n",
      "one time\n",
      "one time\n",
      "one time\n"
     ]
    }
   ],
   "source": [
    "# if you just want to do it 5 times\n",
    "for _ in range(5):\n",
    "    print(\"one time\")"
   ]
  },
  {
   "cell_type": "code",
   "execution_count": 1,
   "metadata": {},
   "outputs": [
    {
     "name": "stdout",
     "output_type": "stream",
     "text": [
      "\\\\\\t\\\\\n"
     ]
    }
   ],
   "source": [
    "# r'' don't trans in default\n",
    "print(r'\\\\\\t\\\\')"
   ]
  },
  {
   "cell_type": "code",
   "execution_count": 4,
   "metadata": {},
   "outputs": [
    {
     "name": "stdout",
     "output_type": "stream",
     "text": [
      "[1, 2, 3, 4]\n"
     ]
    }
   ],
   "source": [
    "digit=[1,2,3,4,5]\n",
    "# digit=digit[1:]\n",
    "digit=digit[:len(digit)-1]\n",
    "print(digit)"
   ]
  },
  {
   "cell_type": "code",
   "execution_count": 5,
   "metadata": {},
   "outputs": [
    {
     "name": "stdout",
     "output_type": "stream",
     "text": [
      "0 : 1\n",
      "1 : 2\n",
      "2 : 3\n",
      "3 : 4\n",
      "4 : 5\n",
      "5 : 6\n"
     ]
    }
   ],
   "source": [
    "digit=[1,2,3,4,5,6]\n",
    "for index,d in enumerate(digit):\n",
    "    print(index,\":\",d)"
   ]
  },
  {
   "cell_type": "code",
   "execution_count": 6,
   "metadata": {},
   "outputs": [
    {
     "name": "stdout",
     "output_type": "stream",
     "text": [
      "[1, 2, 3, 4]\n"
     ]
    }
   ],
   "source": [
    "digit=[1,2,3,4,5]\n",
    "newdigit=digit[:-1]\n",
    "print(newdigit)"
   ]
  },
  {
   "cell_type": "code",
   "execution_count": 7,
   "metadata": {},
   "outputs": [
    {
     "name": "stdout",
     "output_type": "stream",
     "text": [
      "4\n"
     ]
    }
   ],
   "source": [
    "print(2**2)"
   ]
  },
  {
   "cell_type": "markdown",
   "metadata": {},
   "source": [
    "# objects\n",
    "attribute method metaphor"
   ]
  },
  {
   "cell_type": "code",
   "execution_count": 18,
   "metadata": {},
   "outputs": [
    {
     "data": {
      "text/plain": [
       "'👶'"
      ]
     },
     "execution_count": 18,
     "metadata": {},
     "output_type": "execute_result"
    }
   ],
   "source": [
    "from unicodedata import name,lookup\n",
    "name('我')\n",
    "lookup('WHITE SMILING FACE')\n",
    "lookup('SNOWMAN')\n",
    "lookup('BABY')"
   ]
  },
  {
   "cell_type": "code",
   "execution_count": 23,
   "metadata": {},
   "outputs": [
    {
     "name": "stdout",
     "output_type": "stream",
     "text": [
      "['one', 'three']\n",
      "['one', 'three']\n"
     ]
    }
   ],
   "source": [
    "# mutation\n",
    "# although we just change str, not original_str, but turns out they are just different name bind to the same object\n",
    "str=['one','two','three']\n",
    "original_str=str\n",
    "str.remove('two')\n",
    "print(str)\n",
    "print(original_str)\n",
    "# tuples are immutable\n",
    "tp=('one','two','three')\n",
    "\n"
   ]
  },
  {
   "cell_type": "markdown",
   "metadata": {},
   "source": [
    "A compond data object has an 'identity' in addition to the pieces of which it is composed"
   ]
  },
  {
   "cell_type": "code",
   "execution_count": 22,
   "metadata": {},
   "outputs": [
    {
     "name": "stdout",
     "output_type": "stream",
     "text": [
      "True\n",
      "False\n",
      "[1, 2]\n",
      "[1]\n",
      "True\n",
      "True\n",
      "[3, 5]\n",
      "[3, 5]\n",
      "True\n",
      "True\n"
     ]
    }
   ],
   "source": [
    "# identity operator 'is' vs. ==\n",
    "a=[1]\n",
    "b=[1]\n",
    "print(a==b)\n",
    "print(a is b)\n",
    "a.append(2)\n",
    "print(a)\n",
    "print(b)\n",
    "\n",
    "c=[3]\n",
    "d=c\n",
    "print(c==d)\n",
    "print(c is d)\n",
    "c.append(5)\n",
    "print(c)\n",
    "print(d)\n",
    "print(c==d)\n",
    "print(c is d)"
   ]
  },
  {
   "cell_type": "code",
   "execution_count": 26,
   "metadata": {},
   "outputs": [
    {
     "data": {
      "text/plain": [
       "[1, 2, 3, 9, 10, None, None]"
      ]
     },
     "execution_count": 26,
     "metadata": {},
     "output_type": "execute_result"
    }
   ],
   "source": [
    "lst=[1,2,3]\n",
    "lst.extend([lst.append(9), lst.append(10)])\n",
    "lst"
   ]
  },
  {
   "cell_type": "markdown",
   "metadata": {},
   "source": [
    "## Object Oriented Programming\n",
    "We have seen that an object is a data value that has methods and attributes, accessible via dot notation. Every object also has a type, called its class. \n",
    "Objects communicate with each other, and useful results are computed as a consequence of their interaction. "
   ]
  },
  {
   "cell_type": "code",
   "execution_count": 27,
   "metadata": {},
   "outputs": [
    {
     "name": "stdout",
     "output_type": "stream",
     "text": [
      "'is there a quote'\n"
     ]
    }
   ],
   "source": [
    "# f string\n",
    "print(f\"'is there a quote'\")\n",
    "# yes!"
   ]
  },
  {
   "cell_type": "code",
   "execution_count": null,
   "metadata": {},
   "outputs": [],
   "source": [
    "class A(object):\n",
    "    a = 'a'\n",
    "    @staticmethod\n",
    "    # 与类有关但不牵扯到类的实例和类本身的函数, 既可以通过类的实例调用, 也可以通过类调用\n",
    "    def foo1(name):\n",
    "        print('hello', name)\n",
    "    # self, 与类有关且需要通过实例来调用的函数\n",
    "    def foo2(self, name):\n",
    "        print('hello', name)\n",
    "    @classmethod\n",
    "    # cls, 与类有关且需要通过实例来调用的函数\n",
    "    def foo3(cls, name):\n",
    "        print('hello', name)\n",
    "\n",
    "a=A()\n",
    "a.foo1(\"bob1\")\n",
    "A.foo1(\"bob2\")\n",
    "a.foo2(\"bob3\")\n",
    "A.foo3(\"bob4\")"
   ]
  },
  {
   "cell_type": "code",
   "execution_count": null,
   "metadata": {},
   "outputs": [],
   "source": [
    "class attribute vs instance attribute\n",
    "cls attribute change all"
   ]
  },
  {
   "cell_type": "code",
   "execution_count": null,
   "metadata": {},
   "outputs": [],
   "source": [
    "# justify an empty list\n",
    "ls=[]\n",
    "if ls:\n",
    "    print(\"it's not empty\")\n",
    "else:\n",
    "    print(\"it's empty\")"
   ]
  },
  {
   "cell_type": "code",
   "execution_count": 2,
   "metadata": {},
   "outputs": [
    {
     "data": {
      "text/plain": [
       "inf"
      ]
     },
     "execution_count": 2,
     "metadata": {},
     "output_type": "execute_result"
    }
   ],
   "source": [
    "# create a infinite positive number\n",
    "float('inf')"
   ]
  },
  {
   "cell_type": "code",
   "execution_count": 5,
   "metadata": {},
   "outputs": [
    {
     "name": "stdout",
     "output_type": "stream",
     "text": [
      "['one', 'two', 'three']\n",
      "False\n"
     ]
    },
    {
     "data": {
      "text/plain": [
       "list"
      ]
     },
     "execution_count": 5,
     "metadata": {},
     "output_type": "execute_result"
    }
   ],
   "source": [
    "# when you want to iterate meanwhile change a list, create a copy to do it\n",
    "# make a list copy\n",
    "ls=['one','two','three']\n",
    "print(ls[:])\n",
    "print(ls[:] is ls)\n",
    "type(ls[:])"
   ]
  },
  {
   "cell_type": "code",
   "execution_count": 9,
   "metadata": {},
   "outputs": [
    {
     "name": "stdout",
     "output_type": "stream",
     "text": [
      "{'wang': 'man', 'zhang': 'man', 'fei': 'woman'}\n",
      "dict_items([('wang', 'man'), ('zhang', 'man'), ('fei', 'woman')])\n"
     ]
    }
   ],
   "source": [
    "# copy items\n",
    "dic={ 'wang':'man','zhang':'man','fei':'woman' }\n",
    "print(dic.copy())\n",
    "print(dic.copy().items())"
   ]
  }
 ],
 "metadata": {
  "interpreter": {
   "hash": "2d2fc8514f7e9e2ddc51a0fee77d252f6d8ba5d8cb029917c843268e49c2a16f"
  },
  "kernelspec": {
   "display_name": "Python 3.9.7 ('base')",
   "language": "python",
   "name": "python3"
  },
  "language_info": {
   "codemirror_mode": {
    "name": "ipython",
    "version": 3
   },
   "file_extension": ".py",
   "mimetype": "text/x-python",
   "name": "python",
   "nbconvert_exporter": "python",
   "pygments_lexer": "ipython3",
   "version": "3.9.7"
  },
  "orig_nbformat": 4
 },
 "nbformat": 4,
 "nbformat_minor": 2
}
